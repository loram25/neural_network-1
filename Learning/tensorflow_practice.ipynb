{
 "cells": [
  {
   "cell_type": "code",
   "execution_count": 1,
   "metadata": {},
   "outputs": [],
   "source": [
    "# Import our dependencies\n",
    "import pandas as pd\n",
    "import matplotlib as plt\n",
    "from sklearn.datasets import make_blobs\n",
    "import sklearn as skl\n",
    "import tensorflow as tf"
   ]
  },
  {
   "cell_type": "code",
   "execution_count": 2,
   "metadata": {},
   "outputs": [
    {
     "data": {
      "text/plain": [
       "<matplotlib.axes._subplots.AxesSubplot at 0x1e1ed0841c8>"
      ]
     },
     "execution_count": 2,
     "metadata": {},
     "output_type": "execute_result"
    },
    {
     "data": {
      "image/png": "[encoded data removed]",
      "text/plain": [
       "<Figure size 432x288 with 2 Axes>"
      ]
     },
     "metadata": {
      "needs_background": "light"
     },
     "output_type": "display_data"
    }
   ],
   "source": [
    "# Generate dummy dataset\n",
    "X, y = make_blobs(n_samples=1000, centers=2, n_features=2, random_state=78)\n",
    "\n",
    "# Creating a DataFrame with the dummy data\n",
    "df = pd.DataFrame(X, columns=[\"Feature 1\", \"Feature 2\"])\n",
    "df[\"Target\"] = y\n",
    "\n",
    "# Plotting the dummy data\n",
    "df.plot.scatter(x=\"Feature 1\", y=\"Feature 2\", c=\"Target\", colormap=\"winter\")\n"
   ]
  },
  {
   "cell_type": "code",
   "execution_count": 3,
   "metadata": {},
   "outputs": [],
   "source": [
    "# Use sklearn to split dataset\n",
    "from sklearn.model_selection import train_test_split\n",
    "X_train, X_test, y_train, y_test = train_test_split(X, y, random_state=78)"
   ]
  },
  {
   "cell_type": "code",
   "execution_count": 4,
   "metadata": {},
   "outputs": [],
   "source": [
    "# Create scaler instance\n",
    "X_scaler = skl.preprocessing.StandardScaler()\n",
    "\n",
    "# Fit the scaler\n",
    "X_scaler.fit(X_train)\n",
    "\n",
    "# Scale the data\n",
    "X_train_scaled = X_scaler.transform(X_train)\n",
    "X_test_scaled = X_scaler.transform(X_test)"
   ]
  },
  {
   "cell_type": "code",
   "execution_count": 5,
   "metadata": {},
   "outputs": [],
   "source": [
    "# Create Keras Sequential model\n",
    "nn_model = tf.keras.models.Sequential()"
   ]
  },
  {
   "cell_type": "code",
   "execution_count": 6,
   "metadata": {},
   "outputs": [],
   "source": [
    "# Add our first Dense layer\n",
    "nn_model.add(tf.keras.layers.Dense(units=1,activation=\"relu\",input_dim=2))"
   ]
  },
  {
   "cell_type": "code",
   "execution_count": 7,
   "metadata": {},
   "outputs": [],
   "source": [
    "# add output layer using probability activation fn\n",
    "nn_model.add(tf.keras.layers.Dense(units=1,activation=\"sigmoid\"))"
   ]
  },
  {
   "cell_type": "code",
   "execution_count": 8,
   "metadata": {},
   "outputs": [
    {
     "name": "stdout",
     "output_type": "stream",
     "text": [
      "Model: \"sequential\"\n",
      "_________________________________________________________________\n",
      "Layer (type)                 Output Shape              Param #   \n",
      "=================================================================\n",
      "dense (Dense)                (None, 1)                 3         \n",
      "_________________________________________________________________\n",
      "dense_1 (Dense)              (None, 1)                 2         \n",
      "=================================================================\n",
      "Total params: 5\n",
      "Trainable params: 5\n",
      "Non-trainable params: 0\n",
      "_________________________________________________________________\n"
     ]
    }
   ],
   "source": [
    "# Check structure of the model\n",
    "nn_model.summary()"
   ]
  },
  {
   "cell_type": "code",
   "execution_count": 9,
   "metadata": {},
   "outputs": [],
   "source": [
    "# compile and customize metrics\n",
    "nn_model.compile(loss='binary_crossentropy', optimizer=\"adam\", metrics=['accuracy'])"
   ]
  },
  {
   "cell_type": "code",
   "execution_count": 10,
   "metadata": {},
   "outputs": [
    {
     "name": "stdout",
     "output_type": "stream",
     "text": [
      "Train on 750 samples\n",
      "Epoch 1/100\n",
      "750/750 [==============================] - 0s 655us/sample - loss: 0.4131 - accuracy: 0.9947\n",
      "Epoch 2/100\n",
      "750/750 [==============================] - 0s 26us/sample - loss: 0.4032 - accuracy: 0.9947\n",
      "Epoch 3/100\n",
      "750/750 [==============================] - 0s 25us/sample - loss: 0.3937 - accuracy: 0.9947\n",
      "Epoch 4/100\n",
      "750/750 [==============================] - 0s 24us/sample - loss: 0.3846 - accuracy: 0.9947\n",
      "Epoch 5/100\n",
      "750/750 [==============================] - 0s 24us/sample - loss: 0.3758 - accuracy: 0.9947\n",
      "Epoch 6/100\n",
      "750/750 [==============================] - 0s 24us/sample - loss: 0.3674 - accuracy: 0.9947\n",
      "Epoch 7/100\n",
      "750/750 [==============================] - 0s 25us/sample - loss: 0.3593 - accuracy: 0.9947\n",
      "Epoch 8/100\n",
      "750/750 [==============================] - 0s 27us/sample - loss: 0.3514 - accuracy: 0.9947\n",
      "Epoch 9/100\n",
      "750/750 [==============================] - 0s 24us/sample - loss: 0.3438 - accuracy: 0.9947\n",
      "Epoch 10/100\n",
      "750/750 [==============================] - 0s 24us/sample - loss: 0.3364 - accuracy: 0.9947\n",
      "Epoch 11/100\n",
      "750/750 [==============================] - 0s 24us/sample - loss: 0.3293 - accuracy: 0.9947\n",
      "Epoch 12/100\n",
      "750/750 [==============================] - 0s 25us/sample - loss: 0.3223 - accuracy: 0.9947\n",
      "Epoch 13/100\n",
      "750/750 [==============================] - 0s 28us/sample - loss: 0.3155 - accuracy: 0.9947\n",
      "Epoch 14/100\n",
      "750/750 [==============================] - 0s 27us/sample - loss: 0.3088 - accuracy: 0.9960\n",
      "Epoch 15/100\n",
      "750/750 [==============================] - 0s 24us/sample - loss: 0.3024 - accuracy: 0.9960\n",
      "Epoch 16/100\n",
      "750/750 [==============================] - 0s 25us/sample - loss: 0.2962 - accuracy: 0.9973\n",
      "Epoch 17/100\n",
      "750/750 [==============================] - 0s 25us/sample - loss: 0.2900 - accuracy: 0.9987\n",
      "Epoch 18/100\n",
      "750/750 [==============================] - 0s 24us/sample - loss: 0.2842 - accuracy: 1.0000\n",
      "Epoch 19/100\n",
      "750/750 [==============================] - 0s 27us/sample - loss: 0.2785 - accuracy: 1.0000\n",
      "Epoch 20/100\n",
      "750/750 [==============================] - 0s 25us/sample - loss: 0.2729 - accuracy: 1.0000\n",
      "Epoch 21/100\n",
      "750/750 [==============================] - 0s 24us/sample - loss: 0.2675 - accuracy: 1.0000\n",
      "Epoch 22/100\n",
      "750/750 [==============================] - 0s 25us/sample - loss: 0.2622 - accuracy: 1.0000\n",
      "Epoch 23/100\n",
      "750/750 [==============================] - 0s 27us/sample - loss: 0.2571 - accuracy: 1.0000\n",
      "Epoch 24/100\n",
      "750/750 [==============================] - 0s 29us/sample - loss: 0.2521 - accuracy: 1.0000\n",
      "Epoch 25/100\n",
      "750/750 [==============================] - 0s 24us/sample - loss: 0.2473 - accuracy: 1.0000\n",
      "Epoch 26/100\n",
      "750/750 [==============================] - 0s 29us/sample - loss: 0.2425 - accuracy: 1.0000\n",
      "Epoch 27/100\n",
      "750/750 [==============================] - 0s 27us/sample - loss: 0.2379 - accuracy: 1.0000\n",
      "Epoch 28/100\n",
      "750/750 [==============================] - 0s 27us/sample - loss: 0.2334 - accuracy: 1.0000\n",
      "Epoch 29/100\n",
      "750/750 [==============================] - 0s 25us/sample - loss: 0.2291 - accuracy: 1.0000\n",
      "Epoch 30/100\n",
      "750/750 [==============================] - 0s 26us/sample - loss: 0.2248 - accuracy: 1.0000\n",
      "Epoch 31/100\n",
      "750/750 [==============================] - 0s 25us/sample - loss: 0.2207 - accuracy: 1.0000\n",
      "Epoch 32/100\n",
      "750/750 [==============================] - 0s 27us/sample - loss: 0.2166 - accuracy: 1.0000\n",
      "Epoch 33/100\n",
      "750/750 [==============================] - 0s 24us/sample - loss: 0.2127 - accuracy: 1.0000\n",
      "Epoch 34/100\n",
      "750/750 [==============================] - 0s 25us/sample - loss: 0.2088 - accuracy: 1.0000\n",
      "Epoch 35/100\n",
      "750/750 [==============================] - 0s 27us/sample - loss: 0.2050 - accuracy: 1.0000\n",
      "Epoch 36/100\n",
      "750/750 [==============================] - 0s 29us/sample - loss: 0.2013 - accuracy: 1.0000\n",
      "Epoch 37/100\n",
      "750/750 [==============================] - 0s 25us/sample - loss: 0.1978 - accuracy: 1.0000\n",
      "Epoch 38/100\n",
      "750/750 [==============================] - 0s 27us/sample - loss: 0.1943 - accuracy: 1.0000\n",
      "Epoch 39/100\n",
      "750/750 [==============================] - 0s 24us/sample - loss: 0.1908 - accuracy: 1.0000\n",
      "Epoch 40/100\n",
      "750/750 [==============================] - 0s 24us/sample - loss: 0.1875 - accuracy: 1.0000\n",
      "Epoch 41/100\n",
      "750/750 [==============================] - 0s 28us/sample - loss: 0.1842 - accuracy: 1.0000\n",
      "Epoch 42/100\n",
      "750/750 [==============================] - 0s 25us/sample - loss: 0.1810 - accuracy: 1.0000\n",
      "Epoch 43/100\n",
      "750/750 [==============================] - 0s 28us/sample - loss: 0.1779 - accuracy: 1.0000\n",
      "Epoch 44/100\n",
      "750/750 [==============================] - 0s 25us/sample - loss: 0.1748 - accuracy: 1.0000\n",
      "Epoch 45/100\n",
      "750/750 [==============================] - 0s 26us/sample - loss: 0.1719 - accuracy: 1.0000\n",
      "Epoch 46/100\n",
      "750/750 [==============================] - 0s 25us/sample - loss: 0.1689 - accuracy: 1.0000\n",
      "Epoch 47/100\n",
      "750/750 [==============================] - 0s 25us/sample - loss: 0.1661 - accuracy: 1.0000\n",
      "Epoch 48/100\n",
      "750/750 [==============================] - 0s 25us/sample - loss: 0.1633 - accuracy: 1.0000\n",
      "Epoch 49/100\n",
      "750/750 [==============================] - 0s 27us/sample - loss: 0.1606 - accuracy: 1.0000\n",
      "Epoch 50/100\n",
      "750/750 [==============================] - 0s 27us/sample - loss: 0.1580 - accuracy: 1.0000\n",
      "Epoch 51/100\n",
      "750/750 [==============================] - 0s 23us/sample - loss: 0.1553 - accuracy: 1.0000\n",
      "Epoch 52/100\n",
      "750/750 [==============================] - 0s 25us/sample - loss: 0.1528 - accuracy: 1.0000\n",
      "Epoch 53/100\n",
      "750/750 [==============================] - 0s 24us/sample - loss: 0.1503 - accuracy: 1.0000\n",
      "Epoch 54/100\n",
      "750/750 [==============================] - 0s 25us/sample - loss: 0.1479 - accuracy: 1.0000\n",
      "Epoch 55/100\n",
      "750/750 [==============================] - 0s 24us/sample - loss: 0.1455 - accuracy: 1.0000\n",
      "Epoch 56/100\n",
      "750/750 [==============================] - 0s 25us/sample - loss: 0.1432 - accuracy: 1.0000\n",
      "Epoch 57/100\n",
      "750/750 [==============================] - 0s 25us/sample - loss: 0.1409 - accuracy: 1.0000\n",
      "Epoch 58/100\n",
      "750/750 [==============================] - 0s 24us/sample - loss: 0.1387 - accuracy: 1.0000\n",
      "Epoch 59/100\n",
      "750/750 [==============================] - 0s 25us/sample - loss: 0.1364 - accuracy: 1.0000\n",
      "Epoch 60/100\n",
      "750/750 [==============================] - 0s 24us/sample - loss: 0.1343 - accuracy: 1.0000\n",
      "Epoch 61/100\n",
      "750/750 [==============================] - 0s 31us/sample - loss: 0.1322 - accuracy: 1.0000\n",
      "Epoch 62/100\n",
      "750/750 [==============================] - 0s 32us/sample - loss: 0.1301 - accuracy: 1.0000\n",
      "Epoch 63/100\n",
      "750/750 [==============================] - 0s 28us/sample - loss: 0.1281 - accuracy: 1.0000\n",
      "Epoch 64/100\n",
      "750/750 [==============================] - 0s 26us/sample - loss: 0.1261 - accuracy: 1.0000\n",
      "Epoch 65/100\n",
      "750/750 [==============================] - 0s 27us/sample - loss: 0.1242 - accuracy: 1.0000\n",
      "Epoch 66/100\n",
      "750/750 [==============================] - 0s 28us/sample - loss: 0.1223 - accuracy: 1.0000\n",
      "Epoch 67/100\n",
      "750/750 [==============================] - 0s 25us/sample - loss: 0.1204 - accuracy: 1.0000\n",
      "Epoch 68/100\n",
      "750/750 [==============================] - 0s 25us/sample - loss: 0.1186 - accuracy: 1.0000\n",
      "Epoch 69/100\n",
      "750/750 [==============================] - 0s 25us/sample - loss: 0.1168 - accuracy: 1.0000\n",
      "Epoch 70/100\n",
      "750/750 [==============================] - 0s 25us/sample - loss: 0.1150 - accuracy: 1.0000\n",
      "Epoch 71/100\n",
      "750/750 [==============================] - 0s 25us/sample - loss: 0.1133 - accuracy: 1.0000\n",
      "Epoch 72/100\n",
      "750/750 [==============================] - 0s 24us/sample - loss: 0.1116 - accuracy: 1.0000\n",
      "Epoch 73/100\n",
      "750/750 [==============================] - 0s 25us/sample - loss: 0.1099 - accuracy: 1.0000\n",
      "Epoch 74/100\n",
      "750/750 [==============================] - 0s 25us/sample - loss: 0.1083 - accuracy: 1.0000\n",
      "Epoch 75/100\n",
      "750/750 [==============================] - 0s 24us/sample - loss: 0.1066 - accuracy: 1.0000\n",
      "Epoch 76/100\n",
      "750/750 [==============================] - 0s 27us/sample - loss: 0.1051 - accuracy: 1.0000\n",
      "Epoch 77/100\n",
      "750/750 [==============================] - 0s 24us/sample - loss: 0.1035 - accuracy: 1.0000\n",
      "Epoch 78/100\n"
     ]
    },
    {
     "name": "stdout",
     "output_type": "stream",
     "text": [
      "750/750 [==============================] - 0s 24us/sample - loss: 0.1020 - accuracy: 1.0000\n",
      "Epoch 79/100\n",
      "750/750 [==============================] - 0s 25us/sample - loss: 0.1005 - accuracy: 1.0000\n",
      "Epoch 80/100\n",
      "750/750 [==============================] - 0s 24us/sample - loss: 0.0991 - accuracy: 1.0000\n",
      "Epoch 81/100\n",
      "750/750 [==============================] - 0s 24us/sample - loss: 0.0976 - accuracy: 1.0000\n",
      "Epoch 82/100\n",
      "750/750 [==============================] - 0s 24us/sample - loss: 0.0962 - accuracy: 1.0000\n",
      "Epoch 83/100\n",
      "750/750 [==============================] - 0s 23us/sample - loss: 0.0948 - accuracy: 1.0000\n",
      "Epoch 84/100\n",
      "750/750 [==============================] - 0s 24us/sample - loss: 0.0935 - accuracy: 1.0000\n",
      "Epoch 85/100\n",
      "750/750 [==============================] - 0s 24us/sample - loss: 0.0921 - accuracy: 1.0000\n",
      "Epoch 86/100\n",
      "750/750 [==============================] - 0s 24us/sample - loss: 0.0908 - accuracy: 1.0000\n",
      "Epoch 87/100\n",
      "750/750 [==============================] - 0s 25us/sample - loss: 0.0896 - accuracy: 1.0000\n",
      "Epoch 88/100\n",
      "750/750 [==============================] - 0s 25us/sample - loss: 0.0883 - accuracy: 1.0000\n",
      "Epoch 89/100\n",
      "750/750 [==============================] - 0s 27us/sample - loss: 0.0871 - accuracy: 1.0000\n",
      "Epoch 90/100\n",
      "750/750 [==============================] - 0s 24us/sample - loss: 0.0858 - accuracy: 1.0000\n",
      "Epoch 91/100\n",
      "750/750 [==============================] - 0s 25us/sample - loss: 0.0847 - accuracy: 1.0000\n",
      "Epoch 92/100\n",
      "750/750 [==============================] - 0s 25us/sample - loss: 0.0835 - accuracy: 1.0000\n",
      "Epoch 93/100\n",
      "750/750 [==============================] - 0s 28us/sample - loss: 0.0823 - accuracy: 1.0000\n",
      "Epoch 94/100\n",
      "750/750 [==============================] - 0s 31us/sample - loss: 0.0812 - accuracy: 1.0000\n",
      "Epoch 95/100\n",
      "750/750 [==============================] - 0s 32us/sample - loss: 0.0801 - accuracy: 1.0000\n",
      "Epoch 96/100\n",
      "750/750 [==============================] - 0s 29us/sample - loss: 0.0790 - accuracy: 1.0000\n",
      "Epoch 97/100\n",
      "750/750 [==============================] - 0s 31us/sample - loss: 0.0779 - accuracy: 1.0000\n",
      "Epoch 98/100\n",
      "750/750 [==============================] - 0s 33us/sample - loss: 0.0769 - accuracy: 1.0000\n",
      "Epoch 99/100\n",
      "750/750 [==============================] - 0s 29us/sample - loss: 0.0758 - accuracy: 1.0000\n",
      "Epoch 100/100\n",
      "750/750 [==============================] - 0s 35us/sample - loss: 0.0748 - accuracy: 1.0000\n"
     ]
    }
   ],
   "source": [
    "# fit the model to training\n",
    "fit_model = nn_model.fit(X_train_scaled, y_train, epochs=100)"
   ]
  },
  {
   "cell_type": "code",
   "execution_count": 11,
   "metadata": {},
   "outputs": [
    {
     "data": {
      "text/plain": [
       "<matplotlib.axes._subplots.AxesSubplot at 0x1e1eef07f08>"
      ]
     },
     "execution_count": 11,
     "metadata": {},
     "output_type": "execute_result"
    },
    {
     "data": {
      "image/png": "[encoded data removed]",
      "text/plain": [
       "<Figure size 432x288 with 1 Axes>"
      ]
     },
     "metadata": {
      "needs_background": "light"
     },
     "output_type": "display_data"
    }
   ],
   "source": [
    "# Create a DataFrame containing training history\n",
    "history_df = pd.DataFrame(fit_model.history, index=range(1,len(fit_model.history[\"loss\"])+1))\n",
    "\n",
    "# Plot the loss\n",
    "history_df.plot(y=\"loss\")"
   ]
  },
  {
   "cell_type": "code",
   "execution_count": 12,
   "metadata": {},
   "outputs": [
    {
     "data": {
      "text/plain": [
       "<matplotlib.axes._subplots.AxesSubplot at 0x1e1eef7b288>"
      ]
     },
     "execution_count": 12,
     "metadata": {},
     "output_type": "execute_result"
    },
    {
     "data": {
      "image/png": "[encoded data removed]",
      "text/plain": [
       "<Figure size 432x288 with 1 Axes>"
      ]
     },
     "metadata": {
      "needs_background": "light"
     },
     "output_type": "display_data"
    }
   ],
   "source": [
    "# Plot the accuracy\n",
    "history_df.plot(y=\"accuracy\")"
   ]
  },
  {
   "cell_type": "code",
   "execution_count": 14,
   "metadata": {},
   "outputs": [
    {
     "name": "stdout",
     "output_type": "stream",
     "text": [
      "250/250 - 0s - loss: 0.0701 - accuracy: 1.0000\n",
      "Loss: 0.07006011235713959, Accuracy: 1.0\n"
     ]
    }
   ],
   "source": [
    "# evaluate model on test data\n",
    "model_loss, model_accuracy = nn_model.evaluate(X_test_scaled,y_test,verbose=2)\n",
    "print(f\"Loss: {model_loss}, Accuracy: {model_accuracy}\")"
   ]
  },
  {
   "cell_type": "code",
   "execution_count": 16,
   "metadata": {},
   "outputs": [
    {
     "data": {
      "text/plain": [
       "array([[0],\n",
       "       [1],\n",
       "       [0],\n",
       "       [1],\n",
       "       [0],\n",
       "       [0],\n",
       "       [1],\n",
       "       [1],\n",
       "       [1],\n",
       "       [0]])"
      ]
     },
     "execution_count": 16,
     "metadata": {},
     "output_type": "execute_result"
    }
   ],
   "source": [
    "# predict the classification\n",
    "new_X, new_Y = make_blobs(n_samples=10, centers=2, n_features=2,random_state=78)\n",
    "new_X_scaled = X_scaler.transform(new_X)\n",
    "nn_model.predict_classes(new_X_scaled)"
   ]
  },
  {
   "cell_type": "code",
   "execution_count": 17,
   "metadata": {},
   "outputs": [
    {
     "data": {
      "text/plain": [
       "<matplotlib.axes._subplots.AxesSubplot at 0x1e1ef614248>"
      ]
     },
     "execution_count": 17,
     "metadata": {},
     "output_type": "execute_result"
    },
    {
     "data": {
      "image/png": "[encoded data removed]",
      "text/plain": [
       "<Figure size 432x288 with 2 Axes>"
      ]
     },
     "metadata": {
      "needs_background": "light"
     },
     "output_type": "display_data"
    }
   ],
   "source": [
    "from sklearn.datasets import make_moons\n",
    "\n",
    "# Creating dummy nonlinear data\n",
    "X_moons, y_moons = make_moons(n_samples=1000, noise=0.08, random_state=78)\n",
    "\n",
    "# Transforming y_moons to a vertical vector\n",
    "y_moons = y_moons.reshape(-1, 1)\n",
    "\n",
    "# Creating a DataFrame to plot the nonlinear dummy data\n",
    "df_moons = pd.DataFrame(X_moons, columns=[\"Feature 1\", \"Feature 2\"])\n",
    "df_moons[\"Target\"] = y_moons\n",
    "\n",
    "# Plot the nonlinear dummy data\n",
    "df_moons.plot.scatter(x=\"Feature 1\",y=\"Feature 2\", c=\"Target\",colormap=\"winter\")"
   ]
  },
  {
   "cell_type": "code",
   "execution_count": 18,
   "metadata": {},
   "outputs": [],
   "source": [
    "# Create training and testing sets\n",
    "X_moon_train, X_moon_test, y_moon_train, y_moon_test = train_test_split(\n",
    "    X_moons, y_moons, random_state=78\n",
    ")\n",
    "\n",
    "# Create the scaler instance\n",
    "X_moon_scaler = skl.preprocessing.StandardScaler()\n",
    "\n",
    "# Fit the scaler\n",
    "X_moon_scaler.fit(X_moon_train)\n",
    "\n",
    "# Scale the data\n",
    "X_moon_train_scaled = X_moon_scaler.transform(X_moon_train)\n",
    "X_moon_test_scaled = X_moon_scaler.transform(X_moon_test)"
   ]
  },
  {
   "cell_type": "code",
   "execution_count": 19,
   "metadata": {},
   "outputs": [
    {
     "name": "stdout",
     "output_type": "stream",
     "text": [
      "Train on 750 samples\n",
      "Epoch 1/100\n",
      "750/750 [==============================] - 0s 306us/sample - loss: 1.1705 - accuracy: 0.4987\n",
      "Epoch 2/100\n",
      "750/750 [==============================] - 0s 27us/sample - loss: 0.9950 - accuracy: 0.5240\n",
      "Epoch 3/100\n",
      "750/750 [==============================] - 0s 25us/sample - loss: 0.8866 - accuracy: 0.5533\n",
      "Epoch 4/100\n",
      "750/750 [==============================] - 0s 26us/sample - loss: 0.8180 - accuracy: 0.5733\n",
      "Epoch 5/100\n",
      "750/750 [==============================] - 0s 25us/sample - loss: 0.7676 - accuracy: 0.5893\n",
      "Epoch 6/100\n",
      "750/750 [==============================] - 0s 24us/sample - loss: 0.7306 - accuracy: 0.6027\n",
      "Epoch 7/100\n",
      "750/750 [==============================] - 0s 24us/sample - loss: 0.7008 - accuracy: 0.6147\n",
      "Epoch 8/100\n",
      "750/750 [==============================] - 0s 25us/sample - loss: 0.6762 - accuracy: 0.6267\n",
      "Epoch 9/100\n",
      "750/750 [==============================] - 0s 24us/sample - loss: 0.6551 - accuracy: 0.6387\n",
      "Epoch 10/100\n",
      "750/750 [==============================] - 0s 27us/sample - loss: 0.6364 - accuracy: 0.6440\n",
      "Epoch 11/100\n",
      "750/750 [==============================] - 0s 26us/sample - loss: 0.6200 - accuracy: 0.6493\n",
      "Epoch 12/100\n",
      "750/750 [==============================] - 0s 24us/sample - loss: 0.6051 - accuracy: 0.6627\n",
      "Epoch 13/100\n",
      "750/750 [==============================] - 0s 27us/sample - loss: 0.5916 - accuracy: 0.6693\n",
      "Epoch 14/100\n",
      "750/750 [==============================] - 0s 24us/sample - loss: 0.5791 - accuracy: 0.6827\n",
      "Epoch 15/100\n",
      "750/750 [==============================] - 0s 24us/sample - loss: 0.5673 - accuracy: 0.6907\n",
      "Epoch 16/100\n",
      "750/750 [==============================] - 0s 27us/sample - loss: 0.5566 - accuracy: 0.6973\n",
      "Epoch 17/100\n",
      "750/750 [==============================] - 0s 26us/sample - loss: 0.5459 - accuracy: 0.7000\n",
      "Epoch 18/100\n",
      "750/750 [==============================] - 0s 24us/sample - loss: 0.5362 - accuracy: 0.7067\n",
      "Epoch 19/100\n",
      "750/750 [==============================] - 0s 27us/sample - loss: 0.5264 - accuracy: 0.7160\n",
      "Epoch 20/100\n",
      "750/750 [==============================] - 0s 27us/sample - loss: 0.5168 - accuracy: 0.7267\n",
      "Epoch 21/100\n",
      "750/750 [==============================] - 0s 25us/sample - loss: 0.5072 - accuracy: 0.7307\n",
      "Epoch 22/100\n",
      "750/750 [==============================] - 0s 27us/sample - loss: 0.4983 - accuracy: 0.7333\n",
      "Epoch 23/100\n",
      "750/750 [==============================] - 0s 25us/sample - loss: 0.4895 - accuracy: 0.7373\n",
      "Epoch 24/100\n",
      "750/750 [==============================] - 0s 24us/sample - loss: 0.4802 - accuracy: 0.7440\n",
      "Epoch 25/100\n",
      "750/750 [==============================] - 0s 27us/sample - loss: 0.4711 - accuracy: 0.7493\n",
      "Epoch 26/100\n",
      "750/750 [==============================] - 0s 25us/sample - loss: 0.4625 - accuracy: 0.7573\n",
      "Epoch 27/100\n",
      "750/750 [==============================] - 0s 25us/sample - loss: 0.4535 - accuracy: 0.7640\n",
      "Epoch 28/100\n",
      "750/750 [==============================] - 0s 24us/sample - loss: 0.4443 - accuracy: 0.7707\n",
      "Epoch 29/100\n",
      "750/750 [==============================] - 0s 25us/sample - loss: 0.4356 - accuracy: 0.7733\n",
      "Epoch 30/100\n",
      "750/750 [==============================] - 0s 27us/sample - loss: 0.4269 - accuracy: 0.7813\n",
      "Epoch 31/100\n",
      "750/750 [==============================] - 0s 26us/sample - loss: 0.4187 - accuracy: 0.7853\n",
      "Epoch 32/100\n",
      "750/750 [==============================] - 0s 31us/sample - loss: 0.4105 - accuracy: 0.7880\n",
      "Epoch 33/100\n",
      "750/750 [==============================] - 0s 27us/sample - loss: 0.4030 - accuracy: 0.7920\n",
      "Epoch 34/100\n",
      "750/750 [==============================] - 0s 27us/sample - loss: 0.3951 - accuracy: 0.8000\n",
      "Epoch 35/100\n",
      "750/750 [==============================] - 0s 25us/sample - loss: 0.3878 - accuracy: 0.8107\n",
      "Epoch 36/100\n",
      "750/750 [==============================] - 0s 25us/sample - loss: 0.3808 - accuracy: 0.8160\n",
      "Epoch 37/100\n",
      "750/750 [==============================] - 0s 27us/sample - loss: 0.3739 - accuracy: 0.8187\n",
      "Epoch 38/100\n",
      "750/750 [==============================] - 0s 25us/sample - loss: 0.3674 - accuracy: 0.8213\n",
      "Epoch 39/100\n",
      "750/750 [==============================] - 0s 28us/sample - loss: 0.3609 - accuracy: 0.8227\n",
      "Epoch 40/100\n",
      "750/750 [==============================] - 0s 28us/sample - loss: 0.3549 - accuracy: 0.8267\n",
      "Epoch 41/100\n",
      "750/750 [==============================] - 0s 23us/sample - loss: 0.3491 - accuracy: 0.8267\n",
      "Epoch 42/100\n",
      "750/750 [==============================] - 0s 27us/sample - loss: 0.3433 - accuracy: 0.8307\n",
      "Epoch 43/100\n",
      "750/750 [==============================] - 0s 24us/sample - loss: 0.3377 - accuracy: 0.8347\n",
      "Epoch 44/100\n",
      "750/750 [==============================] - 0s 25us/sample - loss: 0.3324 - accuracy: 0.8400\n",
      "Epoch 45/100\n",
      "750/750 [==============================] - 0s 23us/sample - loss: 0.3275 - accuracy: 0.8440\n",
      "Epoch 46/100\n",
      "750/750 [==============================] - 0s 24us/sample - loss: 0.3231 - accuracy: 0.8493\n",
      "Epoch 47/100\n",
      "750/750 [==============================] - 0s 25us/sample - loss: 0.3192 - accuracy: 0.8520\n",
      "Epoch 48/100\n",
      "750/750 [==============================] - 0s 24us/sample - loss: 0.3156 - accuracy: 0.8533\n",
      "Epoch 49/100\n",
      "750/750 [==============================] - 0s 32us/sample - loss: 0.3125 - accuracy: 0.8587\n",
      "Epoch 50/100\n",
      "750/750 [==============================] - 0s 24us/sample - loss: 0.3098 - accuracy: 0.8640\n",
      "Epoch 51/100\n",
      "750/750 [==============================] - 0s 24us/sample - loss: 0.3074 - accuracy: 0.8653\n",
      "Epoch 52/100\n",
      "750/750 [==============================] - 0s 24us/sample - loss: 0.3053 - accuracy: 0.8667\n",
      "Epoch 53/100\n",
      "750/750 [==============================] - 0s 25us/sample - loss: 0.3033 - accuracy: 0.8680\n",
      "Epoch 54/100\n",
      "750/750 [==============================] - 0s 24us/sample - loss: 0.3016 - accuracy: 0.8720\n",
      "Epoch 55/100\n",
      "750/750 [==============================] - 0s 25us/sample - loss: 0.3000 - accuracy: 0.8747\n",
      "Epoch 56/100\n",
      "750/750 [==============================] - 0s 25us/sample - loss: 0.2984 - accuracy: 0.8787\n",
      "Epoch 57/100\n",
      "750/750 [==============================] - 0s 24us/sample - loss: 0.2970 - accuracy: 0.8787\n",
      "Epoch 58/100\n",
      "750/750 [==============================] - 0s 24us/sample - loss: 0.2958 - accuracy: 0.8787\n",
      "Epoch 59/100\n",
      "750/750 [==============================] - 0s 24us/sample - loss: 0.2944 - accuracy: 0.8787\n",
      "Epoch 60/100\n",
      "750/750 [==============================] - 0s 25us/sample - loss: 0.2932 - accuracy: 0.8800\n",
      "Epoch 61/100\n",
      "750/750 [==============================] - 0s 25us/sample - loss: 0.2921 - accuracy: 0.8827\n",
      "Epoch 62/100\n",
      "750/750 [==============================] - 0s 24us/sample - loss: 0.2910 - accuracy: 0.8840\n",
      "Epoch 63/100\n",
      "750/750 [==============================] - 0s 25us/sample - loss: 0.2900 - accuracy: 0.8853\n",
      "Epoch 64/100\n",
      "750/750 [==============================] - 0s 32us/sample - loss: 0.2890 - accuracy: 0.8880\n",
      "Epoch 65/100\n",
      "750/750 [==============================] - 0s 33us/sample - loss: 0.2879 - accuracy: 0.8880\n",
      "Epoch 66/100\n",
      "750/750 [==============================] - 0s 24us/sample - loss: 0.2870 - accuracy: 0.8880\n",
      "Epoch 67/100\n",
      "750/750 [==============================] - 0s 26us/sample - loss: 0.2860 - accuracy: 0.8893\n",
      "Epoch 68/100\n",
      "750/750 [==============================] - 0s 27us/sample - loss: 0.2851 - accuracy: 0.8893\n",
      "Epoch 69/100\n",
      "750/750 [==============================] - 0s 25us/sample - loss: 0.2843 - accuracy: 0.8907\n",
      "Epoch 70/100\n",
      "750/750 [==============================] - 0s 25us/sample - loss: 0.2834 - accuracy: 0.8920\n",
      "Epoch 71/100\n",
      "750/750 [==============================] - 0s 25us/sample - loss: 0.2826 - accuracy: 0.8920\n",
      "Epoch 72/100\n",
      "750/750 [==============================] - 0s 24us/sample - loss: 0.2818 - accuracy: 0.8920\n",
      "Epoch 73/100\n",
      "750/750 [==============================] - 0s 24us/sample - loss: 0.2811 - accuracy: 0.8933\n",
      "Epoch 74/100\n",
      "750/750 [==============================] - 0s 27us/sample - loss: 0.2804 - accuracy: 0.8933\n",
      "Epoch 75/100\n",
      "750/750 [==============================] - 0s 27us/sample - loss: 0.2796 - accuracy: 0.8933\n",
      "Epoch 76/100\n",
      "750/750 [==============================] - 0s 25us/sample - loss: 0.2792 - accuracy: 0.8933\n",
      "Epoch 77/100\n",
      "750/750 [==============================] - 0s 25us/sample - loss: 0.2782 - accuracy: 0.8933\n",
      "Epoch 78/100\n"
     ]
    },
    {
     "name": "stdout",
     "output_type": "stream",
     "text": [
      "750/750 [==============================] - 0s 25us/sample - loss: 0.2777 - accuracy: 0.8933\n",
      "Epoch 79/100\n",
      "750/750 [==============================] - 0s 25us/sample - loss: 0.2770 - accuracy: 0.8933\n",
      "Epoch 80/100\n",
      "750/750 [==============================] - 0s 25us/sample - loss: 0.2764 - accuracy: 0.8933\n",
      "Epoch 81/100\n",
      "750/750 [==============================] - 0s 24us/sample - loss: 0.2758 - accuracy: 0.8933\n",
      "Epoch 82/100\n",
      "750/750 [==============================] - 0s 24us/sample - loss: 0.2752 - accuracy: 0.8933\n",
      "Epoch 83/100\n",
      "750/750 [==============================] - 0s 24us/sample - loss: 0.2747 - accuracy: 0.8920\n",
      "Epoch 84/100\n",
      "750/750 [==============================] - 0s 23us/sample - loss: 0.2741 - accuracy: 0.8920\n",
      "Epoch 85/100\n",
      "750/750 [==============================] - 0s 25us/sample - loss: 0.2736 - accuracy: 0.8920\n",
      "Epoch 86/100\n",
      "750/750 [==============================] - 0s 27us/sample - loss: 0.2731 - accuracy: 0.8920\n",
      "Epoch 87/100\n",
      "750/750 [==============================] - 0s 27us/sample - loss: 0.2726 - accuracy: 0.8907\n",
      "Epoch 88/100\n",
      "750/750 [==============================] - 0s 24us/sample - loss: 0.2721 - accuracy: 0.8907\n",
      "Epoch 89/100\n",
      "750/750 [==============================] - 0s 25us/sample - loss: 0.2717 - accuracy: 0.8907\n",
      "Epoch 90/100\n",
      "750/750 [==============================] - 0s 27us/sample - loss: 0.2711 - accuracy: 0.8907\n",
      "Epoch 91/100\n",
      "750/750 [==============================] - 0s 27us/sample - loss: 0.2707 - accuracy: 0.8907\n",
      "Epoch 92/100\n",
      "750/750 [==============================] - 0s 25us/sample - loss: 0.2703 - accuracy: 0.8907\n",
      "Epoch 93/100\n",
      "750/750 [==============================] - 0s 25us/sample - loss: 0.2699 - accuracy: 0.8920\n",
      "Epoch 94/100\n",
      "750/750 [==============================] - 0s 28us/sample - loss: 0.2695 - accuracy: 0.8907\n",
      "Epoch 95/100\n",
      "750/750 [==============================] - 0s 27us/sample - loss: 0.2690 - accuracy: 0.8920\n",
      "Epoch 96/100\n",
      "750/750 [==============================] - 0s 25us/sample - loss: 0.2687 - accuracy: 0.8920\n",
      "Epoch 97/100\n",
      "750/750 [==============================] - 0s 25us/sample - loss: 0.2683 - accuracy: 0.8920\n",
      "Epoch 98/100\n",
      "750/750 [==============================] - 0s 24us/sample - loss: 0.2680 - accuracy: 0.8920\n",
      "Epoch 99/100\n",
      "750/750 [==============================] - 0s 25us/sample - loss: 0.2675 - accuracy: 0.8920\n",
      "Epoch 100/100\n",
      "750/750 [==============================] - 0s 24us/sample - loss: 0.2672 - accuracy: 0.8920\n"
     ]
    }
   ],
   "source": [
    "# train the model with moon data\n",
    "model_moon = nn_model.fit(X_moon_train_scaled, y_moon_train, epochs=100, shuffle=True)"
   ]
  },
  {
   "cell_type": "code",
   "execution_count": 20,
   "metadata": {},
   "outputs": [
    {
     "data": {
      "text/plain": [
       "<matplotlib.axes._subplots.AxesSubplot at 0x1e1eef849c8>"
      ]
     },
     "execution_count": 20,
     "metadata": {},
     "output_type": "execute_result"
    },
    {
     "data": {
      "image/png": "[encoded data removed]",
      "text/plain": [
       "<Figure size 432x288 with 1 Axes>"
      ]
     },
     "metadata": {
      "needs_background": "light"
     },
     "output_type": "display_data"
    }
   ],
   "source": [
    "# Create a DataFrame containing training history\n",
    "history_df = pd.DataFrame(model_moon.history, index=range(1,len(model_moon.history[\"loss\"])+1))\n",
    "\n",
    "# Plot the loss\n",
    "history_df.plot(y=\"loss\")"
   ]
  },
  {
   "cell_type": "code",
   "execution_count": 21,
   "metadata": {},
   "outputs": [
    {
     "data": {
      "text/plain": [
       "<matplotlib.axes._subplots.AxesSubplot at 0x1e1ef8ccf48>"
      ]
     },
     "execution_count": 21,
     "metadata": {},
     "output_type": "execute_result"
    },
    {
     "data": {
      "image/png": "[encoded data removed]",
      "text/plain": [
       "<Figure size 432x288 with 1 Axes>"
      ]
     },
     "metadata": {
      "needs_background": "light"
     },
     "output_type": "display_data"
    }
   ],
   "source": [
    "# Plot the loss\n",
    "history_df.plot(y=\"accuracy\")"
   ]
  },
  {
   "cell_type": "code",
   "execution_count": 22,
   "metadata": {},
   "outputs": [],
   "source": [
    "# Generate our new Sequential model\n",
    "new_model = tf.keras.models.Sequential()"
   ]
  },
  {
   "cell_type": "code",
   "execution_count": 23,
   "metadata": {},
   "outputs": [],
   "source": [
    "# add the input and hidden layers\n",
    "num_inputs = 2\n",
    "num_hidden_nodes = 6\n",
    "\n",
    "new_model.add(tf.keras.layers.Dense(units=num_hidden_nodes, activation=\"relu\", input_dim=num_inputs))\n",
    "\n",
    "# add the output layer\n",
    "new_model.add(tf.keras.layers.Dense(units=1, activation=\"sigmoid\"))"
   ]
  },
  {
   "cell_type": "code",
   "execution_count": 24,
   "metadata": {},
   "outputs": [
    {
     "name": "stdout",
     "output_type": "stream",
     "text": [
      "Model: \"sequential_1\"\n",
      "_________________________________________________________________\n",
      "Layer (type)                 Output Shape              Param #   \n",
      "=================================================================\n",
      "dense_2 (Dense)              (None, 6)                 18        \n",
      "_________________________________________________________________\n",
      "dense_3 (Dense)              (None, 1)                 7         \n",
      "=================================================================\n",
      "Total params: 25\n",
      "Trainable params: 25\n",
      "Non-trainable params: 0\n",
      "_________________________________________________________________\n"
     ]
    }
   ],
   "source": [
    "new_model.summary()"
   ]
  },
  {
   "cell_type": "code",
   "execution_count": 25,
   "metadata": {},
   "outputs": [
    {
     "name": "stdout",
     "output_type": "stream",
     "text": [
      "Train on 750 samples\n",
      "Epoch 1/100\n",
      "750/750 [==============================] - 0s 441us/sample - loss: 0.6734 - accuracy: 0.4213\n",
      "Epoch 2/100\n",
      "750/750 [==============================] - 0s 27us/sample - loss: 0.6311 - accuracy: 0.6000\n",
      "Epoch 3/100\n",
      "750/750 [==============================] - 0s 25us/sample - loss: 0.5952 - accuracy: 0.7893\n",
      "Epoch 4/100\n",
      "750/750 [==============================] - 0s 25us/sample - loss: 0.5632 - accuracy: 0.8133\n",
      "Epoch 5/100\n",
      "750/750 [==============================] - 0s 26us/sample - loss: 0.5346 - accuracy: 0.8320\n",
      "Epoch 6/100\n",
      "750/750 [==============================] - 0s 25us/sample - loss: 0.5091 - accuracy: 0.8413\n",
      "Epoch 7/100\n",
      "750/750 [==============================] - 0s 25us/sample - loss: 0.4860 - accuracy: 0.8507\n",
      "Epoch 8/100\n",
      "750/750 [==============================] - 0s 24us/sample - loss: 0.4647 - accuracy: 0.8520\n",
      "Epoch 9/100\n",
      "750/750 [==============================] - 0s 25us/sample - loss: 0.4459 - accuracy: 0.8560\n",
      "Epoch 10/100\n",
      "750/750 [==============================] - 0s 28us/sample - loss: 0.4284 - accuracy: 0.8507\n",
      "Epoch 11/100\n",
      "750/750 [==============================] - 0s 28us/sample - loss: 0.4127 - accuracy: 0.8480\n",
      "Epoch 12/100\n",
      "750/750 [==============================] - 0s 27us/sample - loss: 0.3980 - accuracy: 0.8520\n",
      "Epoch 13/100\n",
      "750/750 [==============================] - 0s 25us/sample - loss: 0.3846 - accuracy: 0.8627\n",
      "Epoch 14/100\n",
      "750/750 [==============================] - 0s 24us/sample - loss: 0.3720 - accuracy: 0.8680\n",
      "Epoch 15/100\n",
      "750/750 [==============================] - 0s 29us/sample - loss: 0.3607 - accuracy: 0.8693\n",
      "Epoch 16/100\n",
      "750/750 [==============================] - 0s 25us/sample - loss: 0.3502 - accuracy: 0.8760\n",
      "Epoch 17/100\n",
      "750/750 [==============================] - 0s 25us/sample - loss: 0.3407 - accuracy: 0.8773\n",
      "Epoch 18/100\n",
      "750/750 [==============================] - 0s 23us/sample - loss: 0.3321 - accuracy: 0.8773\n",
      "Epoch 19/100\n",
      "750/750 [==============================] - 0s 31us/sample - loss: 0.3245 - accuracy: 0.8813\n",
      "Epoch 20/100\n",
      "750/750 [==============================] - 0s 25us/sample - loss: 0.3176 - accuracy: 0.8800\n",
      "Epoch 21/100\n",
      "750/750 [==============================] - 0s 24us/sample - loss: 0.3116 - accuracy: 0.8813\n",
      "Epoch 22/100\n",
      "750/750 [==============================] - 0s 27us/sample - loss: 0.3062 - accuracy: 0.8813\n",
      "Epoch 23/100\n",
      "750/750 [==============================] - 0s 27us/sample - loss: 0.3014 - accuracy: 0.8813\n",
      "Epoch 24/100\n",
      "750/750 [==============================] - 0s 27us/sample - loss: 0.2971 - accuracy: 0.8813\n",
      "Epoch 25/100\n",
      "750/750 [==============================] - 0s 25us/sample - loss: 0.2931 - accuracy: 0.8800\n",
      "Epoch 26/100\n",
      "750/750 [==============================] - 0s 27us/sample - loss: 0.2897 - accuracy: 0.8800\n",
      "Epoch 27/100\n",
      "750/750 [==============================] - 0s 24us/sample - loss: 0.2864 - accuracy: 0.8800\n",
      "Epoch 28/100\n",
      "750/750 [==============================] - 0s 28us/sample - loss: 0.2837 - accuracy: 0.8827\n",
      "Epoch 29/100\n",
      "750/750 [==============================] - 0s 25us/sample - loss: 0.2812 - accuracy: 0.8827\n",
      "Epoch 30/100\n",
      "750/750 [==============================] - 0s 25us/sample - loss: 0.2788 - accuracy: 0.8827\n",
      "Epoch 31/100\n",
      "750/750 [==============================] - 0s 25us/sample - loss: 0.2767 - accuracy: 0.8840\n",
      "Epoch 32/100\n",
      "750/750 [==============================] - 0s 25us/sample - loss: 0.2746 - accuracy: 0.8853\n",
      "Epoch 33/100\n",
      "750/750 [==============================] - 0s 28us/sample - loss: 0.2728 - accuracy: 0.8853\n",
      "Epoch 34/100\n",
      "750/750 [==============================] - 0s 31us/sample - loss: 0.2711 - accuracy: 0.8853\n",
      "Epoch 35/100\n",
      "750/750 [==============================] - 0s 28us/sample - loss: 0.2695 - accuracy: 0.8867\n",
      "Epoch 36/100\n",
      "750/750 [==============================] - 0s 28us/sample - loss: 0.2679 - accuracy: 0.8907\n",
      "Epoch 37/100\n",
      "750/750 [==============================] - 0s 24us/sample - loss: 0.2664 - accuracy: 0.8920\n",
      "Epoch 38/100\n",
      "750/750 [==============================] - ETA: 0s - loss: 0.2851 - accuracy: 0.90 - 0s 24us/sample - loss: 0.2650 - accuracy: 0.8920\n",
      "Epoch 39/100\n",
      "750/750 [==============================] - 0s 24us/sample - loss: 0.2637 - accuracy: 0.8920\n",
      "Epoch 40/100\n",
      "750/750 [==============================] - 0s 28us/sample - loss: 0.2623 - accuracy: 0.8920\n",
      "Epoch 41/100\n",
      "750/750 [==============================] - 0s 27us/sample - loss: 0.2611 - accuracy: 0.8920\n",
      "Epoch 42/100\n",
      "750/750 [==============================] - 0s 25us/sample - loss: 0.2598 - accuracy: 0.8947\n",
      "Epoch 43/100\n",
      "750/750 [==============================] - 0s 25us/sample - loss: 0.2588 - accuracy: 0.8933\n",
      "Epoch 44/100\n",
      "750/750 [==============================] - 0s 27us/sample - loss: 0.2576 - accuracy: 0.8947\n",
      "Epoch 45/100\n",
      "750/750 [==============================] - 0s 26us/sample - loss: 0.2566 - accuracy: 0.8947\n",
      "Epoch 46/100\n",
      "750/750 [==============================] - 0s 27us/sample - loss: 0.2557 - accuracy: 0.8947\n",
      "Epoch 47/100\n",
      "750/750 [==============================] - 0s 24us/sample - loss: 0.2548 - accuracy: 0.8947\n",
      "Epoch 48/100\n",
      "750/750 [==============================] - 0s 25us/sample - loss: 0.2538 - accuracy: 0.8947\n",
      "Epoch 49/100\n",
      "750/750 [==============================] - 0s 27us/sample - loss: 0.2528 - accuracy: 0.8947\n",
      "Epoch 50/100\n",
      "750/750 [==============================] - 0s 33us/sample - loss: 0.2519 - accuracy: 0.8947\n",
      "Epoch 51/100\n",
      "750/750 [==============================] - 0s 29us/sample - loss: 0.2512 - accuracy: 0.8947\n",
      "Epoch 52/100\n",
      "750/750 [==============================] - 0s 23us/sample - loss: 0.2502 - accuracy: 0.8947\n",
      "Epoch 53/100\n",
      "750/750 [==============================] - 0s 27us/sample - loss: 0.2494 - accuracy: 0.8960\n",
      "Epoch 54/100\n",
      "750/750 [==============================] - 0s 24us/sample - loss: 0.2486 - accuracy: 0.8960\n",
      "Epoch 55/100\n",
      "750/750 [==============================] - 0s 24us/sample - loss: 0.2477 - accuracy: 0.8960\n",
      "Epoch 56/100\n",
      "750/750 [==============================] - 0s 24us/sample - loss: 0.2469 - accuracy: 0.8960\n",
      "Epoch 57/100\n",
      "750/750 [==============================] - 0s 24us/sample - loss: 0.2462 - accuracy: 0.8960\n",
      "Epoch 58/100\n",
      "750/750 [==============================] - 0s 27us/sample - loss: 0.2455 - accuracy: 0.8960\n",
      "Epoch 59/100\n",
      "750/750 [==============================] - 0s 25us/sample - loss: 0.2447 - accuracy: 0.8947\n",
      "Epoch 60/100\n",
      "750/750 [==============================] - 0s 27us/sample - loss: 0.2440 - accuracy: 0.8947\n",
      "Epoch 61/100\n",
      "750/750 [==============================] - 0s 25us/sample - loss: 0.2434 - accuracy: 0.8947\n",
      "Epoch 62/100\n",
      "750/750 [==============================] - 0s 25us/sample - loss: 0.2427 - accuracy: 0.8947\n",
      "Epoch 63/100\n",
      "750/750 [==============================] - 0s 25us/sample - loss: 0.2420 - accuracy: 0.8960\n",
      "Epoch 64/100\n",
      "750/750 [==============================] - 0s 24us/sample - loss: 0.2413 - accuracy: 0.8973\n",
      "Epoch 65/100\n",
      "750/750 [==============================] - 0s 25us/sample - loss: 0.2407 - accuracy: 0.8973\n",
      "Epoch 66/100\n",
      "750/750 [==============================] - 0s 24us/sample - loss: 0.2400 - accuracy: 0.8960\n",
      "Epoch 67/100\n",
      "750/750 [==============================] - 0s 25us/sample - loss: 0.2395 - accuracy: 0.8960\n",
      "Epoch 68/100\n",
      "750/750 [==============================] - 0s 24us/sample - loss: 0.2388 - accuracy: 0.8960\n",
      "Epoch 69/100\n",
      "750/750 [==============================] - 0s 27us/sample - loss: 0.2383 - accuracy: 0.8973\n",
      "Epoch 70/100\n",
      "750/750 [==============================] - 0s 25us/sample - loss: 0.2377 - accuracy: 0.8973\n",
      "Epoch 71/100\n",
      "750/750 [==============================] - 0s 25us/sample - loss: 0.2370 - accuracy: 0.8973\n",
      "Epoch 72/100\n",
      "750/750 [==============================] - 0s 24us/sample - loss: 0.2364 - accuracy: 0.8973\n",
      "Epoch 73/100\n",
      "750/750 [==============================] - 0s 24us/sample - loss: 0.2358 - accuracy: 0.8987\n",
      "Epoch 74/100\n",
      "750/750 [==============================] - 0s 25us/sample - loss: 0.2352 - accuracy: 0.9000\n",
      "Epoch 75/100\n",
      "750/750 [==============================] - 0s 25us/sample - loss: 0.2345 - accuracy: 0.9013\n",
      "Epoch 76/100\n",
      "750/750 [==============================] - 0s 25us/sample - loss: 0.2339 - accuracy: 0.9013\n",
      "Epoch 77/100\n",
      "750/750 [==============================] - 0s 25us/sample - loss: 0.2332 - accuracy: 0.9000\n",
      "Epoch 78/100\n"
     ]
    },
    {
     "name": "stdout",
     "output_type": "stream",
     "text": [
      "750/750 [==============================] - 0s 24us/sample - loss: 0.2326 - accuracy: 0.9000\n",
      "Epoch 79/100\n",
      "750/750 [==============================] - 0s 25us/sample - loss: 0.2319 - accuracy: 0.9000\n",
      "Epoch 80/100\n",
      "750/750 [==============================] - 0s 25us/sample - loss: 0.2314 - accuracy: 0.9000\n",
      "Epoch 81/100\n",
      "750/750 [==============================] - 0s 27us/sample - loss: 0.2304 - accuracy: 0.9013\n",
      "Epoch 82/100\n",
      "750/750 [==============================] - 0s 25us/sample - loss: 0.2298 - accuracy: 0.9013\n",
      "Epoch 83/100\n",
      "750/750 [==============================] - 0s 25us/sample - loss: 0.2292 - accuracy: 0.9013\n",
      "Epoch 84/100\n",
      "750/750 [==============================] - 0s 25us/sample - loss: 0.2284 - accuracy: 0.9027\n",
      "Epoch 85/100\n",
      "750/750 [==============================] - 0s 24us/sample - loss: 0.2279 - accuracy: 0.9013\n",
      "Epoch 86/100\n",
      "750/750 [==============================] - 0s 27us/sample - loss: 0.2270 - accuracy: 0.9027\n",
      "Epoch 87/100\n",
      "750/750 [==============================] - 0s 25us/sample - loss: 0.2264 - accuracy: 0.9040\n",
      "Epoch 88/100\n",
      "750/750 [==============================] - 0s 24us/sample - loss: 0.2257 - accuracy: 0.9040\n",
      "Epoch 89/100\n",
      "750/750 [==============================] - 0s 24us/sample - loss: 0.2248 - accuracy: 0.9040\n",
      "Epoch 90/100\n",
      "750/750 [==============================] - 0s 25us/sample - loss: 0.2242 - accuracy: 0.9040\n",
      "Epoch 91/100\n",
      "750/750 [==============================] - 0s 25us/sample - loss: 0.2236 - accuracy: 0.9067\n",
      "Epoch 92/100\n",
      "750/750 [==============================] - 0s 24us/sample - loss: 0.2226 - accuracy: 0.9067\n",
      "Epoch 93/100\n",
      "750/750 [==============================] - 0s 24us/sample - loss: 0.2218 - accuracy: 0.9067\n",
      "Epoch 94/100\n",
      "750/750 [==============================] - 0s 24us/sample - loss: 0.2211 - accuracy: 0.9080\n",
      "Epoch 95/100\n",
      "750/750 [==============================] - 0s 24us/sample - loss: 0.2204 - accuracy: 0.9080\n",
      "Epoch 96/100\n",
      "750/750 [==============================] - 0s 25us/sample - loss: 0.2196 - accuracy: 0.9080\n",
      "Epoch 97/100\n",
      "750/750 [==============================] - 0s 24us/sample - loss: 0.2188 - accuracy: 0.9080\n",
      "Epoch 98/100\n",
      "750/750 [==============================] - 0s 24us/sample - loss: 0.2181 - accuracy: 0.9080\n",
      "Epoch 99/100\n",
      "750/750 [==============================] - 0s 25us/sample - loss: 0.2172 - accuracy: 0.9080\n",
      "Epoch 100/100\n",
      "750/750 [==============================] - 0s 25us/sample - loss: 0.2164 - accuracy: 0.9080\n"
     ]
    }
   ],
   "source": [
    "# compile and customize metrics\n",
    "new_model.compile(loss=\"binary_crossentropy\",optimizer=\"adam\",metrics=[\"accuracy\"])\n",
    "\n",
    "# fit to moon training data\n",
    "new_fit_model = new_model.fit(X_moon_train_scaled, y_moon_train, epochs=100, shuffle=True)"
   ]
  },
  {
   "cell_type": "code",
   "execution_count": null,
   "metadata": {},
   "outputs": [],
   "source": []
  }
 ],
 "metadata": {
  "kernelspec": {
   "display_name": "PythonData",
   "language": "python",
   "name": "pythondata"
  },
  "language_info": {
   "codemirror_mode": {
    "name": "ipython",
    "version": 3
   },
   "file_extension": ".py",
   "mimetype": "text/x-python",
   "name": "python",
   "nbconvert_exporter": "python",
   "pygments_lexer": "ipython3",
   "version": "3.7.6"
  }
 },
 "nbformat": 4,
 "nbformat_minor": 4
}
